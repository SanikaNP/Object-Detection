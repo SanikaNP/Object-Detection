{
 "cells": [
  {
   "cell_type": "code",
   "execution_count": 19,
   "id": "973cd060",
   "metadata": {},
   "outputs": [],
   "source": [
    "import cv2"
   ]
  },
  {
   "cell_type": "code",
   "execution_count": 20,
   "id": "58f30377",
   "metadata": {},
   "outputs": [],
   "source": [
    "#img = cv2.imread('lena.png')\n",
    "thres =  0.5\n",
    "cap = cv2.VideoCapture(0)"
   ]
  },
  {
   "cell_type": "code",
   "execution_count": 28,
   "id": "8cc59d3c",
   "metadata": {},
   "outputs": [
    {
     "data": {
      "text/plain": [
       "True"
      ]
     },
     "execution_count": 28,
     "metadata": {},
     "output_type": "execute_result"
    }
   ],
   "source": [
    "cap.set(3,1280)\n",
    "cap.set(4,720)\n",
    "cap.set(10,70)"
   ]
  },
  {
   "cell_type": "code",
   "execution_count": 29,
   "id": "c53acb56",
   "metadata": {},
   "outputs": [],
   "source": [
    "#cv2.imshow(\"Output\",img)\n",
    "#cv2.waitKey(0)"
   ]
  },
  {
   "cell_type": "code",
   "execution_count": 30,
   "id": "6433e6de",
   "metadata": {},
   "outputs": [
    {
     "name": "stdout",
     "output_type": "stream",
     "text": [
      "['person', 'bicycle', 'car', 'motorbike', 'aeroplane', 'bus', 'train', 'truck', 'boat', 'traffic light', 'fire hydrant', 'stop sign', 'parking meter', 'bench', 'bird', 'cat', 'dog', 'horse', 'sheep', 'cow', 'elephant', 'bear', 'zebra', 'giraffe', 'backpack', 'umbrella', 'handbag', 'tie', 'suitcase', 'frisbee', 'skis', 'snowboard', 'sports ball', 'kite', 'baseball bat', 'baseball glove', 'skateboard', 'surfboard', 'tennis racket', 'bottle', 'wine glass', 'cup', 'fork', 'knife', 'spoon', 'bowl', 'banana', 'apple', 'sandwich', 'orange', 'broccoli', 'carrot', 'hot dog', 'pizza', 'donut', 'cake', 'chair', 'sofa', 'pottedplant', 'bed', 'diningtable', 'toilet', 'tvmonitor', 'laptop', 'mouse', 'remote', 'keyboard', 'cell phone', 'microwave', 'oven', 'toaster', 'sink', 'refrigerator', 'book', 'clock', 'vase', 'scissors', 'teddy bear', 'hair drier', 'toothbrush']\n"
     ]
    }
   ],
   "source": [
    "classNames = []\n",
    "classFile = 'coco.names'\n",
    "with open(classFile,'rt') as f:\n",
    "    classNames  = f.read().rstrip('\\n').split('\\n')\n",
    "\n",
    "print(classNames)"
   ]
  },
  {
   "cell_type": "code",
   "execution_count": 31,
   "id": "5e6b09f7",
   "metadata": {},
   "outputs": [],
   "source": [
    "configPath = 'ssd_mobileNet.pbtxt'\n",
    "weightsPath = 'frozen_inference_graph.pb'"
   ]
  },
  {
   "cell_type": "code",
   "execution_count": 32,
   "id": "6a29abf3",
   "metadata": {},
   "outputs": [
    {
     "data": {
      "text/plain": [
       "<dnn_Model 000001A06A095C10>"
      ]
     },
     "execution_count": 32,
     "metadata": {},
     "output_type": "execute_result"
    }
   ],
   "source": [
    "net = cv2.dnn_DetectionModel(weightsPath, configPath)\n",
    "net.setInputSize(320,320)\n",
    "net.setInputScale(1.0 / 127.5)\n",
    "net.setInputMean((127.5, 127.5, 127.5))\n",
    "net.setInputSwapRB(True)"
   ]
  },
  {
   "cell_type": "code",
   "execution_count": 33,
   "id": "87d60f20",
   "metadata": {},
   "outputs": [
    {
     "name": "stdout",
     "output_type": "stream",
     "text": [
      "[1] [[134   1 500 478]]\n",
      "[1] [[127   1 508 478]]\n",
      "[1] [[133   0 502 479]]\n",
      "[1] [[126   0 509 479]]\n",
      "[1] [[130   0 507 479]]\n",
      "[ 1 84] [[123   0 512 480]\n",
      " [329 119  62  24]]\n"
     ]
    },
    {
     "ename": "IndexError",
     "evalue": "list index out of range",
     "output_type": "error",
     "traceback": [
      "\u001b[1;31m---------------------------------------------------------------------------\u001b[0m",
      "\u001b[1;31mIndexError\u001b[0m                                Traceback (most recent call last)",
      "\u001b[1;32m~\\AppData\\Local\\Temp/ipykernel_63228/2960917792.py\u001b[0m in \u001b[0;36m<module>\u001b[1;34m\u001b[0m\n\u001b[0;32m      8\u001b[0m         \u001b[1;32mfor\u001b[0m \u001b[0mclassId\u001b[0m\u001b[1;33m,\u001b[0m \u001b[0mconfidence\u001b[0m\u001b[1;33m,\u001b[0m \u001b[0mbox\u001b[0m \u001b[1;32min\u001b[0m \u001b[0mzip\u001b[0m\u001b[1;33m(\u001b[0m\u001b[0mclassIds\u001b[0m\u001b[1;33m.\u001b[0m\u001b[0mflatten\u001b[0m\u001b[1;33m(\u001b[0m\u001b[1;33m)\u001b[0m\u001b[1;33m,\u001b[0m \u001b[0mconfs\u001b[0m\u001b[1;33m.\u001b[0m\u001b[0mflatten\u001b[0m\u001b[1;33m(\u001b[0m\u001b[1;33m)\u001b[0m\u001b[1;33m,\u001b[0m\u001b[0mbbox\u001b[0m\u001b[1;33m)\u001b[0m\u001b[1;33m:\u001b[0m\u001b[1;33m\u001b[0m\u001b[1;33m\u001b[0m\u001b[0m\n\u001b[0;32m      9\u001b[0m             \u001b[0mcv2\u001b[0m\u001b[1;33m.\u001b[0m\u001b[0mrectangle\u001b[0m\u001b[1;33m(\u001b[0m\u001b[0mimg\u001b[0m\u001b[1;33m,\u001b[0m \u001b[0mbox\u001b[0m\u001b[1;33m,\u001b[0m \u001b[0mcolor\u001b[0m \u001b[1;33m=\u001b[0m \u001b[1;33m(\u001b[0m\u001b[1;36m0\u001b[0m\u001b[1;33m,\u001b[0m\u001b[1;36m255\u001b[0m\u001b[1;33m,\u001b[0m\u001b[1;36m0\u001b[0m\u001b[1;33m)\u001b[0m\u001b[1;33m,\u001b[0m\u001b[0mthickness\u001b[0m\u001b[1;33m=\u001b[0m \u001b[1;36m2\u001b[0m\u001b[1;33m)\u001b[0m\u001b[1;33m\u001b[0m\u001b[1;33m\u001b[0m\u001b[0m\n\u001b[1;32m---> 10\u001b[1;33m             cv2.putText(img, classNames[classId-1],(box[0] + 10, box[1] + 30),\n\u001b[0m\u001b[0;32m     11\u001b[0m                        cv2.FONT_HERSHEY_COMPLEX,1,(0,255,0), 2)\n\u001b[0;32m     12\u001b[0m             cv2.putText(img, str(confidence)[classId-1],(box[0] + 150, box[1] + 30),\n",
      "\u001b[1;31mIndexError\u001b[0m: list index out of range"
     ]
    }
   ],
   "source": [
    "#for classID in classIDs\n",
    "while True:\n",
    "    success, img = cap.read()\n",
    "    classIds, confs, bbox = net.detect(img, confThreshold = thres)\n",
    "    print(classIds, bbox)\n",
    "    \n",
    "    if len(classIds) != 0:\n",
    "        for classId, confidence, box in zip(classIds.flatten(), confs.flatten(),bbox):\n",
    "            cv2.rectangle(img, box, color = (0,255,0),thickness= 2)\n",
    "            cv2.putText(img, classNames[classId-1],(box[0] + 10, box[1] + 30),\n",
    "                       cv2.FONT_HERSHEY_COMPLEX,1,(0,255,0), 2)\n",
    "            cv2.putText(img, str(round(confidence*100,2)),(box[0]+200,box[1]+30),\n",
    "                       cv2.FONT_HERSHEY_COMPLEX,1,(0,0,255), 2)\n",
    "    \n",
    "    cv2.imshow(\"Output\",img)\n",
    "    cv2.waitKey(1)"
   ]
  },
  {
   "cell_type": "code",
   "execution_count": null,
   "id": "608d2946",
   "metadata": {},
   "outputs": [],
   "source": []
  }
 ],
 "metadata": {
  "kernelspec": {
   "display_name": "Python 3 (ipykernel)",
   "language": "python",
   "name": "python3"
  },
  "language_info": {
   "codemirror_mode": {
    "name": "ipython",
    "version": 3
   },
   "file_extension": ".py",
   "mimetype": "text/x-python",
   "name": "python",
   "nbconvert_exporter": "python",
   "pygments_lexer": "ipython3",
   "version": "3.9.7"
  }
 },
 "nbformat": 4,
 "nbformat_minor": 5
}
